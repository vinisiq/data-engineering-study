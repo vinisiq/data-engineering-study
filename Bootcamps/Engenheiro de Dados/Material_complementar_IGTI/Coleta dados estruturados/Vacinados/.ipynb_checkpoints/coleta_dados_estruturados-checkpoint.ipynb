{
 "cells": [
  {
   "cell_type": "markdown",
   "metadata": {},
   "source": [
    "# Coleta de dados estruturados\n",
    "\n",
    "Os dados estruturados são provenientes de estruturas definidas, inflexível, pensadas antes mesmo da própria criação dos dados. Exemplo de dados estruturados: Tabelas de banco de dados, planilhas eletrônicas, arquivos de textos como txt e csv.\n",
    "\n",
    "Nesse exercício vamos inicíar a coleta de dados proveniente de arquivos de texto disponibilizado no site do Kaggle.\n",
    "\n",
    "A base de dados está disponível no seguinte link: https://www.kaggle.com/gpreda/covid-world-vaccination-progress\n",
    "\n",
    "**Informação importante:**\n",
    "Esse dataset é atualizado diariamente. Desta forma, para que os resultados sejam iguais esse exercicio, temos que utilizar o mesmo dataset. O dataset pode ser obtido no arquivo disponbilizado da plataforma do canvas do IGTI ou no github https://github.com/ProfLeandroLessa\n",
    "\n",
    "O dataset utilizado nesse estudo foi coletado no dia 26/02/2021 às 17:50\n"
   ]
  },
  {
   "cell_type": "code",
   "execution_count": 28,
   "metadata": {},
   "outputs": [],
   "source": [
    "# Antes de iniciar a coleta dos dados vamos importar as bibliotecas necessárias.\n",
    "import pandas as pd\n",
    "import os "
   ]
  },
  {
   "cell_type": "markdown",
   "metadata": {},
   "source": [
    "# Importando dados do arquivo\n",
    "O primeiro passo é encontrar o local aonde o arquivo a ser trabalho vai estar armazenado. \n",
    "Após isso, vamos abrir-lo e em seguida vamos adiciona-lo dentro de um dataframe do pandas."
   ]
  },
  {
   "cell_type": "code",
   "execution_count": 29,
   "metadata": {},
   "outputs": [],
   "source": [
    "DIRETORIO = 'C:\\\\Projetos\\\\coleta_dados_estruturados\\\\datasets\\\\'\n",
    "arquivo = 'country_vaccinations.csv'\n",
    "dados = os.path.join(DIRETORIO, arquivo) # busca caminho do arquivo ja com suas conversões\n"
   ]
  },
  {
   "cell_type": "markdown",
   "metadata": {},
   "source": [
    "Verifica o caminho do diretorio que o arquivo esta salvo"
   ]
  },
  {
   "cell_type": "code",
   "execution_count": 30,
   "metadata": {},
   "outputs": [
    {
     "data": {
      "text/plain": [
       "'C:\\\\Projetos\\\\coleta_dados_estruturados\\\\datasets\\\\country_vaccinations.csv'"
      ]
     },
     "execution_count": 30,
     "metadata": {},
     "output_type": "execute_result"
    }
   ],
   "source": [
    "dados"
   ]
  },
  {
   "cell_type": "markdown",
   "metadata": {},
   "source": [
    "Agora vamos criar um data frame no pandas e ler o arquivo na pasta de origem. \n",
    "Para abir o arquivo vamos utilizar o comando read_csv e utiliar o separador ';' de acordo com o dado fornecido. Além disso, temos que utilizar o encoding informando a codigicação do arquivo."
   ]
  },
  {
   "cell_type": "code",
   "execution_count": 31,
   "metadata": {},
   "outputs": [],
   "source": [
    "dataframe = pd.read_csv(dados, sep=',', encoding='latin-1')"
   ]
  },
  {
   "cell_type": "code",
   "execution_count": 34,
   "metadata": {},
   "outputs": [
    {
     "data": {
      "text/html": [
       "<div>\n",
       "<style scoped>\n",
       "    .dataframe tbody tr th:only-of-type {\n",
       "        vertical-align: middle;\n",
       "    }\n",
       "\n",
       "    .dataframe tbody tr th {\n",
       "        vertical-align: top;\n",
       "    }\n",
       "\n",
       "    .dataframe thead th {\n",
       "        text-align: right;\n",
       "    }\n",
       "</style>\n",
       "<table border=\"1\" class=\"dataframe\">\n",
       "  <thead>\n",
       "    <tr style=\"text-align: right;\">\n",
       "      <th></th>\n",
       "      <th>country</th>\n",
       "      <th>iso_code</th>\n",
       "      <th>date</th>\n",
       "      <th>total_vaccinations</th>\n",
       "      <th>people_vaccinated</th>\n",
       "      <th>people_fully_vaccinated</th>\n",
       "      <th>daily_vaccinations_raw</th>\n",
       "      <th>daily_vaccinations</th>\n",
       "      <th>total_vaccinations_per_hundred</th>\n",
       "      <th>people_vaccinated_per_hundred</th>\n",
       "      <th>people_fully_vaccinated_per_hundred</th>\n",
       "      <th>daily_vaccinations_per_million</th>\n",
       "      <th>vaccines</th>\n",
       "      <th>source_name</th>\n",
       "      <th>source_website</th>\n",
       "    </tr>\n",
       "  </thead>\n",
       "  <tbody>\n",
       "    <tr>\n",
       "      <th>0</th>\n",
       "      <td>Albania</td>\n",
       "      <td>ALB</td>\n",
       "      <td>2021-01-10</td>\n",
       "      <td>0.0</td>\n",
       "      <td>0.0</td>\n",
       "      <td>NaN</td>\n",
       "      <td>NaN</td>\n",
       "      <td>NaN</td>\n",
       "      <td>0.00</td>\n",
       "      <td>0.00</td>\n",
       "      <td>NaN</td>\n",
       "      <td>NaN</td>\n",
       "      <td>Pfizer/BioNTech</td>\n",
       "      <td>Ministry of Health</td>\n",
       "      <td>https://shendetesia.gov.al/covid19-ministria-e...</td>\n",
       "    </tr>\n",
       "    <tr>\n",
       "      <th>1</th>\n",
       "      <td>Albania</td>\n",
       "      <td>ALB</td>\n",
       "      <td>2021-01-11</td>\n",
       "      <td>NaN</td>\n",
       "      <td>NaN</td>\n",
       "      <td>NaN</td>\n",
       "      <td>NaN</td>\n",
       "      <td>64.0</td>\n",
       "      <td>NaN</td>\n",
       "      <td>NaN</td>\n",
       "      <td>NaN</td>\n",
       "      <td>22.0</td>\n",
       "      <td>Pfizer/BioNTech</td>\n",
       "      <td>Ministry of Health</td>\n",
       "      <td>https://shendetesia.gov.al/covid19-ministria-e...</td>\n",
       "    </tr>\n",
       "    <tr>\n",
       "      <th>2</th>\n",
       "      <td>Albania</td>\n",
       "      <td>ALB</td>\n",
       "      <td>2021-01-12</td>\n",
       "      <td>128.0</td>\n",
       "      <td>128.0</td>\n",
       "      <td>NaN</td>\n",
       "      <td>NaN</td>\n",
       "      <td>64.0</td>\n",
       "      <td>0.00</td>\n",
       "      <td>0.00</td>\n",
       "      <td>NaN</td>\n",
       "      <td>22.0</td>\n",
       "      <td>Pfizer/BioNTech</td>\n",
       "      <td>Ministry of Health</td>\n",
       "      <td>https://shendetesia.gov.al/covid19-ministria-e...</td>\n",
       "    </tr>\n",
       "    <tr>\n",
       "      <th>3</th>\n",
       "      <td>Albania</td>\n",
       "      <td>ALB</td>\n",
       "      <td>2021-01-13</td>\n",
       "      <td>188.0</td>\n",
       "      <td>188.0</td>\n",
       "      <td>NaN</td>\n",
       "      <td>60.0</td>\n",
       "      <td>63.0</td>\n",
       "      <td>0.01</td>\n",
       "      <td>0.01</td>\n",
       "      <td>NaN</td>\n",
       "      <td>22.0</td>\n",
       "      <td>Pfizer/BioNTech</td>\n",
       "      <td>Ministry of Health</td>\n",
       "      <td>https://shendetesia.gov.al/covid19-ministria-e...</td>\n",
       "    </tr>\n",
       "    <tr>\n",
       "      <th>4</th>\n",
       "      <td>Albania</td>\n",
       "      <td>ALB</td>\n",
       "      <td>2021-01-14</td>\n",
       "      <td>266.0</td>\n",
       "      <td>266.0</td>\n",
       "      <td>NaN</td>\n",
       "      <td>78.0</td>\n",
       "      <td>66.0</td>\n",
       "      <td>0.01</td>\n",
       "      <td>0.01</td>\n",
       "      <td>NaN</td>\n",
       "      <td>23.0</td>\n",
       "      <td>Pfizer/BioNTech</td>\n",
       "      <td>Ministry of Health</td>\n",
       "      <td>https://shendetesia.gov.al/covid19-ministria-e...</td>\n",
       "    </tr>\n",
       "  </tbody>\n",
       "</table>\n",
       "</div>"
      ],
      "text/plain": [
       "   country iso_code        date  total_vaccinations  people_vaccinated  \\\n",
       "0  Albania      ALB  2021-01-10                 0.0                0.0   \n",
       "1  Albania      ALB  2021-01-11                 NaN                NaN   \n",
       "2  Albania      ALB  2021-01-12               128.0              128.0   \n",
       "3  Albania      ALB  2021-01-13               188.0              188.0   \n",
       "4  Albania      ALB  2021-01-14               266.0              266.0   \n",
       "\n",
       "   people_fully_vaccinated  daily_vaccinations_raw  daily_vaccinations  \\\n",
       "0                      NaN                     NaN                 NaN   \n",
       "1                      NaN                     NaN                64.0   \n",
       "2                      NaN                     NaN                64.0   \n",
       "3                      NaN                    60.0                63.0   \n",
       "4                      NaN                    78.0                66.0   \n",
       "\n",
       "   total_vaccinations_per_hundred  people_vaccinated_per_hundred  \\\n",
       "0                            0.00                           0.00   \n",
       "1                             NaN                            NaN   \n",
       "2                            0.00                           0.00   \n",
       "3                            0.01                           0.01   \n",
       "4                            0.01                           0.01   \n",
       "\n",
       "   people_fully_vaccinated_per_hundred  daily_vaccinations_per_million  \\\n",
       "0                                  NaN                             NaN   \n",
       "1                                  NaN                            22.0   \n",
       "2                                  NaN                            22.0   \n",
       "3                                  NaN                            22.0   \n",
       "4                                  NaN                            23.0   \n",
       "\n",
       "          vaccines         source_name  \\\n",
       "0  Pfizer/BioNTech  Ministry of Health   \n",
       "1  Pfizer/BioNTech  Ministry of Health   \n",
       "2  Pfizer/BioNTech  Ministry of Health   \n",
       "3  Pfizer/BioNTech  Ministry of Health   \n",
       "4  Pfizer/BioNTech  Ministry of Health   \n",
       "\n",
       "                                      source_website  \n",
       "0  https://shendetesia.gov.al/covid19-ministria-e...  \n",
       "1  https://shendetesia.gov.al/covid19-ministria-e...  \n",
       "2  https://shendetesia.gov.al/covid19-ministria-e...  \n",
       "3  https://shendetesia.gov.al/covid19-ministria-e...  \n",
       "4  https://shendetesia.gov.al/covid19-ministria-e...  "
      ]
     },
     "execution_count": 34,
     "metadata": {},
     "output_type": "execute_result"
    }
   ],
   "source": [
    "# Exibe os 5 primeiros regirstros da tabela\n",
    "dataframe.head(5)"
   ]
  },
  {
   "cell_type": "markdown",
   "metadata": {},
   "source": [
    "# Analisando os dados\n",
    "\n",
    "\n",
    "## Sobre o dataset\n",
    "\n",
    "O dataset utilizado é referente a estatistica do número de vacinados da COVID-19 em todos os países do mundo.\n",
    "\n",
    "Para esse estudo vamos utilizar as váriaveis: \n",
    "*county = pais;\n",
    "date = data;\n",
    "total_vaccinations = Número total de vacinações ( número absoluto de imunizações totais no país);\n",
    "daily_vaccinations = Número de vacinados por dia;\n",
    "Vaccines = vacinas utilizadas no país;\n",
    ";*\n",
    "\n",
    "\n",
    "Vamos responder as perguntas:\n",
    "\n",
    "1. Quais são os países com maior número de pessoas imunizadas?\n",
    "2. Qual vacina é a mais utilizada no mundo? ** Existem diferentes tipos de vacinas disponível no mundo\n",
    "3. Qual a país possui o maior número de vacinados por dia?\n",
    "4. Qual a média de vacinação de vacinação por pais?\n",
    "\n",
    "Após responder as perguntas vamos exportar as respostas obtidas.\n"
   ]
  },
  {
   "cell_type": "code",
   "execution_count": 36,
   "metadata": {},
   "outputs": [
    {
     "data": {
      "text/html": [
       "<div>\n",
       "<style scoped>\n",
       "    .dataframe tbody tr th:only-of-type {\n",
       "        vertical-align: middle;\n",
       "    }\n",
       "\n",
       "    .dataframe tbody tr th {\n",
       "        vertical-align: top;\n",
       "    }\n",
       "\n",
       "    .dataframe thead th {\n",
       "        text-align: right;\n",
       "    }\n",
       "</style>\n",
       "<table border=\"1\" class=\"dataframe\">\n",
       "  <thead>\n",
       "    <tr style=\"text-align: right;\">\n",
       "      <th></th>\n",
       "      <th>country</th>\n",
       "      <th>iso_code</th>\n",
       "      <th>date</th>\n",
       "      <th>total_vaccinations</th>\n",
       "      <th>people_vaccinated</th>\n",
       "      <th>people_fully_vaccinated</th>\n",
       "      <th>daily_vaccinations_raw</th>\n",
       "      <th>daily_vaccinations</th>\n",
       "      <th>total_vaccinations_per_hundred</th>\n",
       "      <th>people_vaccinated_per_hundred</th>\n",
       "      <th>people_fully_vaccinated_per_hundred</th>\n",
       "      <th>daily_vaccinations_per_million</th>\n",
       "      <th>vaccines</th>\n",
       "      <th>source_name</th>\n",
       "      <th>source_website</th>\n",
       "    </tr>\n",
       "  </thead>\n",
       "  <tbody>\n",
       "    <tr>\n",
       "      <th>573</th>\n",
       "      <td>Brazil</td>\n",
       "      <td>BRA</td>\n",
       "      <td>2021-02-26</td>\n",
       "      <td>8101787.0</td>\n",
       "      <td>6346769.0</td>\n",
       "      <td>1755018.0</td>\n",
       "      <td>302787.0</td>\n",
       "      <td>223804.0</td>\n",
       "      <td>3.81</td>\n",
       "      <td>2.99</td>\n",
       "      <td>0.83</td>\n",
       "      <td>1053.0</td>\n",
       "      <td>Oxford/AstraZeneca, Sinovac</td>\n",
       "      <td>Regional governments via Coronavirus Brasil</td>\n",
       "      <td>https://coronavirusbra1.github.io/</td>\n",
       "    </tr>\n",
       "    <tr>\n",
       "      <th>572</th>\n",
       "      <td>Brazil</td>\n",
       "      <td>BRA</td>\n",
       "      <td>2021-02-25</td>\n",
       "      <td>7799000.0</td>\n",
       "      <td>6202055.0</td>\n",
       "      <td>1596945.0</td>\n",
       "      <td>247324.0</td>\n",
       "      <td>227474.0</td>\n",
       "      <td>3.67</td>\n",
       "      <td>2.92</td>\n",
       "      <td>0.75</td>\n",
       "      <td>1070.0</td>\n",
       "      <td>Oxford/AstraZeneca, Sinovac</td>\n",
       "      <td>Regional governments via Coronavirus Brasil</td>\n",
       "      <td>https://coronavirusbra1.github.io/</td>\n",
       "    </tr>\n",
       "    <tr>\n",
       "      <th>571</th>\n",
       "      <td>Brazil</td>\n",
       "      <td>BRA</td>\n",
       "      <td>2021-02-24</td>\n",
       "      <td>7551676.0</td>\n",
       "      <td>6116082.0</td>\n",
       "      <td>1435594.0</td>\n",
       "      <td>254615.0</td>\n",
       "      <td>238305.0</td>\n",
       "      <td>3.55</td>\n",
       "      <td>2.88</td>\n",
       "      <td>0.68</td>\n",
       "      <td>1121.0</td>\n",
       "      <td>Oxford/AstraZeneca, Sinovac</td>\n",
       "      <td>Regional governments via Coronavirus Brasil</td>\n",
       "      <td>https://coronavirusbra1.github.io/</td>\n",
       "    </tr>\n",
       "    <tr>\n",
       "      <th>570</th>\n",
       "      <td>Brazil</td>\n",
       "      <td>BRA</td>\n",
       "      <td>2021-02-23</td>\n",
       "      <td>7297061.0</td>\n",
       "      <td>6002873.0</td>\n",
       "      <td>1294188.0</td>\n",
       "      <td>268705.0</td>\n",
       "      <td>241018.0</td>\n",
       "      <td>3.43</td>\n",
       "      <td>2.82</td>\n",
       "      <td>0.61</td>\n",
       "      <td>1134.0</td>\n",
       "      <td>Oxford/AstraZeneca, Sinovac</td>\n",
       "      <td>Regional governments via Coronavirus Brasil</td>\n",
       "      <td>https://coronavirusbra1.github.io/</td>\n",
       "    </tr>\n",
       "    <tr>\n",
       "      <th>569</th>\n",
       "      <td>Brazil</td>\n",
       "      <td>BRA</td>\n",
       "      <td>2021-02-22</td>\n",
       "      <td>7028356.0</td>\n",
       "      <td>5857080.0</td>\n",
       "      <td>1171276.0</td>\n",
       "      <td>77554.0</td>\n",
       "      <td>247768.0</td>\n",
       "      <td>3.31</td>\n",
       "      <td>2.76</td>\n",
       "      <td>0.55</td>\n",
       "      <td>1166.0</td>\n",
       "      <td>Oxford/AstraZeneca, Sinovac</td>\n",
       "      <td>Regional governments via Coronavirus Brasil</td>\n",
       "      <td>https://coronavirusbra1.github.io/</td>\n",
       "    </tr>\n",
       "  </tbody>\n",
       "</table>\n",
       "</div>"
      ],
      "text/plain": [
       "    country iso_code        date  total_vaccinations  people_vaccinated  \\\n",
       "573  Brazil      BRA  2021-02-26           8101787.0          6346769.0   \n",
       "572  Brazil      BRA  2021-02-25           7799000.0          6202055.0   \n",
       "571  Brazil      BRA  2021-02-24           7551676.0          6116082.0   \n",
       "570  Brazil      BRA  2021-02-23           7297061.0          6002873.0   \n",
       "569  Brazil      BRA  2021-02-22           7028356.0          5857080.0   \n",
       "\n",
       "     people_fully_vaccinated  daily_vaccinations_raw  daily_vaccinations  \\\n",
       "573                1755018.0                302787.0            223804.0   \n",
       "572                1596945.0                247324.0            227474.0   \n",
       "571                1435594.0                254615.0            238305.0   \n",
       "570                1294188.0                268705.0            241018.0   \n",
       "569                1171276.0                 77554.0            247768.0   \n",
       "\n",
       "     total_vaccinations_per_hundred  people_vaccinated_per_hundred  \\\n",
       "573                            3.81                           2.99   \n",
       "572                            3.67                           2.92   \n",
       "571                            3.55                           2.88   \n",
       "570                            3.43                           2.82   \n",
       "569                            3.31                           2.76   \n",
       "\n",
       "     people_fully_vaccinated_per_hundred  daily_vaccinations_per_million  \\\n",
       "573                                 0.83                          1053.0   \n",
       "572                                 0.75                          1070.0   \n",
       "571                                 0.68                          1121.0   \n",
       "570                                 0.61                          1134.0   \n",
       "569                                 0.55                          1166.0   \n",
       "\n",
       "                        vaccines                                  source_name  \\\n",
       "573  Oxford/AstraZeneca, Sinovac  Regional governments via Coronavirus Brasil   \n",
       "572  Oxford/AstraZeneca, Sinovac  Regional governments via Coronavirus Brasil   \n",
       "571  Oxford/AstraZeneca, Sinovac  Regional governments via Coronavirus Brasil   \n",
       "570  Oxford/AstraZeneca, Sinovac  Regional governments via Coronavirus Brasil   \n",
       "569  Oxford/AstraZeneca, Sinovac  Regional governments via Coronavirus Brasil   \n",
       "\n",
       "                         source_website  \n",
       "573  https://coronavirusbra1.github.io/  \n",
       "572  https://coronavirusbra1.github.io/  \n",
       "571  https://coronavirusbra1.github.io/  \n",
       "570  https://coronavirusbra1.github.io/  \n",
       "569  https://coronavirusbra1.github.io/  "
      ]
     },
     "execution_count": 36,
     "metadata": {},
     "output_type": "execute_result"
    }
   ],
   "source": [
    "# Verificando dados referênte ao brasil por dia.\n",
    "dataframe.query('country == \"Brazil\" ').sort_values('date', ascending=False)[:5]\n"
   ]
  },
  {
   "cell_type": "code",
   "execution_count": 37,
   "metadata": {},
   "outputs": [
    {
     "data": {
      "text/plain": [
       "112"
      ]
     },
     "execution_count": 37,
     "metadata": {},
     "output_type": "execute_result"
    }
   ],
   "source": [
    "# verificando o número de países distintos na base\n",
    "dataframe['country'].nunique()"
   ]
  },
  {
   "cell_type": "markdown",
   "metadata": {},
   "source": [
    "**Observem que temos 112 registros de países no nosso dataset**"
   ]
  },
  {
   "cell_type": "markdown",
   "metadata": {},
   "source": [
    "\n",
    "## 1. Qual o pais com maior número de pessoas imunizadas?\n",
    "\n",
    "Para que a análise seja realizada de forma correta é necessário analisar profundamente os dados. \n",
    "Nessa etapa, precisamos fazer vários testes afim de conhecer melhor os dados.\n",
    "Perceba que o dataset traz infomação por data de coleta. Dessa forma, temos que filtrar o ultimo registro baseado na data.\n",
    "\n",
    "Será que essa análise é correta?\n",
    "\n",
    "Vamos analisar!\n"
   ]
  },
  {
   "cell_type": "code",
   "execution_count": 38,
   "metadata": {},
   "outputs": [
    {
     "data": {
      "text/plain": [
       "'2021-02-26'"
      ]
     },
     "execution_count": 38,
     "metadata": {},
     "output_type": "execute_result"
    }
   ],
   "source": [
    "#identificando a data mais recente da coleta\n",
    "ultima_data = dataframe['date'].max()\n",
    "ultima_data"
   ]
  },
  {
   "cell_type": "code",
   "execution_count": 39,
   "metadata": {},
   "outputs": [],
   "source": [
    "# filtrando a ultima data\n",
    "ultima_data = dataframe[dataframe.date == ultima_data]"
   ]
  },
  {
   "cell_type": "code",
   "execution_count": 40,
   "metadata": {},
   "outputs": [
    {
     "data": {
      "text/plain": [
       "(43, 15)"
      ]
     },
     "execution_count": 40,
     "metadata": {},
     "output_type": "execute_result"
    }
   ],
   "source": [
    "# O comando shape mostra a quantidade de linhas e colunas dentro de um dataset\n",
    "ultima_data.shape"
   ]
  },
  {
   "cell_type": "markdown",
   "metadata": {},
   "source": [
    "# Atenção!\n",
    "Perceba que o dataset filtrado pela ultima data retornou (43,15) ou seja 43 linhas e 15 colunas. Isso não esta certo! Pois verificamos que temos 112 países no dataset original. \n",
    "\n",
    "Dessa forma, ao filtrar pela última data estamos excluindo registros de outros países que não foram ainda computados na última coleta. \n",
    "\n",
    "Para resolver esse problema, temos que selecionar o último registro de data cada país. Assim não vamos deixar nenhum país de fora. \n",
    "\n",
    "Vamos fazer um agrupamento do pais e selecionar a última data de atualização que foi realizada"
   ]
  },
  {
   "cell_type": "code",
   "execution_count": 41,
   "metadata": {},
   "outputs": [
    {
     "data": {
      "text/plain": [
       "country\n",
       "Zimbabwe           2021-02-26\n",
       "Hungary            2021-02-26\n",
       "Lebanon            2021-02-26\n",
       "Romania            2021-02-26\n",
       "Portugal           2021-02-26\n",
       "                      ...    \n",
       "Myanmar            2021-02-02\n",
       "Egypt              2021-01-30\n",
       "Greenland          2021-01-27\n",
       "Northern Cyprus    2021-01-22\n",
       "Monaco             2021-01-18\n",
       "Name: date, Length: 112, dtype: object"
      ]
     },
     "execution_count": 41,
     "metadata": {},
     "output_type": "execute_result"
    }
   ],
   "source": [
    "dataframe.groupby('country')['date'].max().sort_values(ascending=False)"
   ]
  },
  {
   "cell_type": "markdown",
   "metadata": {},
   "source": [
    "Agora vimos que existem de fato países que não possuem a atualização da ultima data da coleta.\n",
    "Dessa forma, temos que procurar uma outra maneira para obter esses dados.\n",
    "A variável total_vaccinations contém o total de vacinações naquele país. Ou seja, podemos utilizar ele como parâmetro  para buscar a última data de coleta. \n",
    "Desta forma, vamos agrupar por país e pegar o valor máximo obtido nessa variável.\n"
   ]
  },
  {
   "cell_type": "code",
   "execution_count": 42,
   "metadata": {},
   "outputs": [
    {
     "data": {
      "text/plain": [
       "country\n",
       "United States          70454064.0\n",
       "China                  40520000.0\n",
       "United Kingdom         19913592.0\n",
       "England                16785841.0\n",
       "India                  13756940.0\n",
       "                          ...    \n",
       "Paraguay                   1000.0\n",
       "New Zealand                1000.0\n",
       "Trinidad and Tobago         440.0\n",
       "Venezuela                   157.0\n",
       "Saint Helena                107.0\n",
       "Name: total_vaccinations, Length: 112, dtype: float64"
      ]
     },
     "execution_count": 42,
     "metadata": {},
     "output_type": "execute_result"
    }
   ],
   "source": [
    "dataframe.groupby('country')['total_vaccinations'].max().sort_values(ascending=False)"
   ]
  },
  {
   "cell_type": "markdown",
   "metadata": {},
   "source": [
    "Vamos então criar a lista com os TOP 10 países"
   ]
  },
  {
   "cell_type": "code",
   "execution_count": 43,
   "metadata": {},
   "outputs": [
    {
     "data": {
      "text/plain": [
       "country\n",
       "United States          70454064.0\n",
       "China                  40520000.0\n",
       "United Kingdom         19913592.0\n",
       "England                16785841.0\n",
       "India                  13756940.0\n",
       "                          ...    \n",
       "Paraguay                   1000.0\n",
       "New Zealand                1000.0\n",
       "Trinidad and Tobago         440.0\n",
       "Venezuela                   157.0\n",
       "Saint Helena                107.0\n",
       "Name: total_vaccinations, Length: 112, dtype: float64"
      ]
     },
     "execution_count": 43,
     "metadata": {},
     "output_type": "execute_result"
    }
   ],
   "source": [
    "imunizados_por_pais = dataframe.groupby('country')['total_vaccinations'].max().sort_values(ascending=False)\n",
    "imunizados_por_pais"
   ]
  },
  {
   "cell_type": "code",
   "execution_count": 44,
   "metadata": {},
   "outputs": [
    {
     "data": {
      "text/plain": [
       "pandas.core.series.Series"
      ]
     },
     "execution_count": 44,
     "metadata": {},
     "output_type": "execute_result"
    }
   ],
   "source": [
    "type(imunizados_por_pais)"
   ]
  },
  {
   "cell_type": "markdown",
   "metadata": {},
   "source": [
    "Percebam que efetuar uma operação, o seu resultado se transforma em uma série pandas. \n",
    "\n",
    "Uma Série Pandas se caracterizada por um array unidimensional capaz de armazenar qualquer tipo de dados com rótulos ou índice de eixo. Um exemplo de um objeto Series é uma coluna de um DataFrame.\n",
    "\n",
    "Para transformar novamente em um dataframe temos que usar o comando to_frame() e resetar o index."
   ]
  },
  {
   "cell_type": "code",
   "execution_count": 45,
   "metadata": {},
   "outputs": [
    {
     "data": {
      "text/html": [
       "<div>\n",
       "<style scoped>\n",
       "    .dataframe tbody tr th:only-of-type {\n",
       "        vertical-align: middle;\n",
       "    }\n",
       "\n",
       "    .dataframe tbody tr th {\n",
       "        vertical-align: top;\n",
       "    }\n",
       "\n",
       "    .dataframe thead th {\n",
       "        text-align: right;\n",
       "    }\n",
       "</style>\n",
       "<table border=\"1\" class=\"dataframe\">\n",
       "  <thead>\n",
       "    <tr style=\"text-align: right;\">\n",
       "      <th></th>\n",
       "      <th>country</th>\n",
       "      <th>total_vaccinations</th>\n",
       "    </tr>\n",
       "  </thead>\n",
       "  <tbody>\n",
       "    <tr>\n",
       "      <th>0</th>\n",
       "      <td>United States</td>\n",
       "      <td>70454064.0</td>\n",
       "    </tr>\n",
       "    <tr>\n",
       "      <th>1</th>\n",
       "      <td>China</td>\n",
       "      <td>40520000.0</td>\n",
       "    </tr>\n",
       "    <tr>\n",
       "      <th>2</th>\n",
       "      <td>United Kingdom</td>\n",
       "      <td>19913592.0</td>\n",
       "    </tr>\n",
       "    <tr>\n",
       "      <th>3</th>\n",
       "      <td>England</td>\n",
       "      <td>16785841.0</td>\n",
       "    </tr>\n",
       "    <tr>\n",
       "      <th>4</th>\n",
       "      <td>India</td>\n",
       "      <td>13756940.0</td>\n",
       "    </tr>\n",
       "    <tr>\n",
       "      <th>...</th>\n",
       "      <td>...</td>\n",
       "      <td>...</td>\n",
       "    </tr>\n",
       "    <tr>\n",
       "      <th>107</th>\n",
       "      <td>Paraguay</td>\n",
       "      <td>1000.0</td>\n",
       "    </tr>\n",
       "    <tr>\n",
       "      <th>108</th>\n",
       "      <td>New Zealand</td>\n",
       "      <td>1000.0</td>\n",
       "    </tr>\n",
       "    <tr>\n",
       "      <th>109</th>\n",
       "      <td>Trinidad and Tobago</td>\n",
       "      <td>440.0</td>\n",
       "    </tr>\n",
       "    <tr>\n",
       "      <th>110</th>\n",
       "      <td>Venezuela</td>\n",
       "      <td>157.0</td>\n",
       "    </tr>\n",
       "    <tr>\n",
       "      <th>111</th>\n",
       "      <td>Saint Helena</td>\n",
       "      <td>107.0</td>\n",
       "    </tr>\n",
       "  </tbody>\n",
       "</table>\n",
       "<p>112 rows × 2 columns</p>\n",
       "</div>"
      ],
      "text/plain": [
       "                 country  total_vaccinations\n",
       "0          United States          70454064.0\n",
       "1                  China          40520000.0\n",
       "2         United Kingdom          19913592.0\n",
       "3                England          16785841.0\n",
       "4                  India          13756940.0\n",
       "..                   ...                 ...\n",
       "107             Paraguay              1000.0\n",
       "108          New Zealand              1000.0\n",
       "109  Trinidad and Tobago               440.0\n",
       "110            Venezuela               157.0\n",
       "111         Saint Helena               107.0\n",
       "\n",
       "[112 rows x 2 columns]"
      ]
     },
     "execution_count": 45,
     "metadata": {},
     "output_type": "execute_result"
    }
   ],
   "source": [
    "imunizados = imunizados_por_pais.to_frame().reset_index()\n",
    "imunizados"
   ]
  },
  {
   "cell_type": "markdown",
   "metadata": {},
   "source": [
    "Pronto! Agora temos a relação do número total de imunizados por pais.\n",
    "\n",
    "Vamos utilizar o metodo sort_values na variável total_vaccinations para ordenar e o parâmetro ascending como False para ordenar do maior para o menor. Além disso, vamos selecionar os 10 primeiros países"
   ]
  },
  {
   "cell_type": "code",
   "execution_count": 48,
   "metadata": {},
   "outputs": [
    {
     "data": {
      "text/html": [
       "<div>\n",
       "<style scoped>\n",
       "    .dataframe tbody tr th:only-of-type {\n",
       "        vertical-align: middle;\n",
       "    }\n",
       "\n",
       "    .dataframe tbody tr th {\n",
       "        vertical-align: top;\n",
       "    }\n",
       "\n",
       "    .dataframe thead th {\n",
       "        text-align: right;\n",
       "    }\n",
       "</style>\n",
       "<table border=\"1\" class=\"dataframe\">\n",
       "  <thead>\n",
       "    <tr style=\"text-align: right;\">\n",
       "      <th></th>\n",
       "      <th>country</th>\n",
       "      <th>total_vaccinations</th>\n",
       "    </tr>\n",
       "  </thead>\n",
       "  <tbody>\n",
       "    <tr>\n",
       "      <th>0</th>\n",
       "      <td>United States</td>\n",
       "      <td>70454064.0</td>\n",
       "    </tr>\n",
       "    <tr>\n",
       "      <th>1</th>\n",
       "      <td>China</td>\n",
       "      <td>40520000.0</td>\n",
       "    </tr>\n",
       "    <tr>\n",
       "      <th>2</th>\n",
       "      <td>United Kingdom</td>\n",
       "      <td>19913592.0</td>\n",
       "    </tr>\n",
       "  </tbody>\n",
       "</table>\n",
       "</div>"
      ],
      "text/plain": [
       "          country  total_vaccinations\n",
       "0   United States          70454064.0\n",
       "1           China          40520000.0\n",
       "2  United Kingdom          19913592.0"
      ]
     },
     "execution_count": 48,
     "metadata": {},
     "output_type": "execute_result"
    }
   ],
   "source": [
    "imunizados.sort_values('total_vaccinations',ascending=False).head(3)"
   ]
  },
  {
   "cell_type": "markdown",
   "metadata": {},
   "source": [
    "## 2. Qual vacina é a mais utilizada no mundo? "
   ]
  },
  {
   "cell_type": "markdown",
   "metadata": {},
   "source": [
    "Para descobrir qual vacina mais utilizada no mundo devemos criar um dataframe contendo as vacinas utilizadas por pais. Com isso, vamos ter uma relação com todas as vacinas por pais em uma determinada data."
   ]
  },
  {
   "cell_type": "code",
   "execution_count": 49,
   "metadata": {},
   "outputs": [
    {
     "data": {
      "text/html": [
       "<div>\n",
       "<style scoped>\n",
       "    .dataframe tbody tr th:only-of-type {\n",
       "        vertical-align: middle;\n",
       "    }\n",
       "\n",
       "    .dataframe tbody tr th {\n",
       "        vertical-align: top;\n",
       "    }\n",
       "\n",
       "    .dataframe thead th {\n",
       "        text-align: right;\n",
       "    }\n",
       "</style>\n",
       "<table border=\"1\" class=\"dataframe\">\n",
       "  <thead>\n",
       "    <tr style=\"text-align: right;\">\n",
       "      <th></th>\n",
       "      <th>country</th>\n",
       "      <th>date</th>\n",
       "      <th>vaccines</th>\n",
       "    </tr>\n",
       "  </thead>\n",
       "  <tbody>\n",
       "    <tr>\n",
       "      <th>0</th>\n",
       "      <td>Albania</td>\n",
       "      <td>2021-01-10</td>\n",
       "      <td>Pfizer/BioNTech</td>\n",
       "    </tr>\n",
       "    <tr>\n",
       "      <th>1</th>\n",
       "      <td>Albania</td>\n",
       "      <td>2021-01-11</td>\n",
       "      <td>Pfizer/BioNTech</td>\n",
       "    </tr>\n",
       "    <tr>\n",
       "      <th>2</th>\n",
       "      <td>Albania</td>\n",
       "      <td>2021-01-12</td>\n",
       "      <td>Pfizer/BioNTech</td>\n",
       "    </tr>\n",
       "    <tr>\n",
       "      <th>3</th>\n",
       "      <td>Albania</td>\n",
       "      <td>2021-01-13</td>\n",
       "      <td>Pfizer/BioNTech</td>\n",
       "    </tr>\n",
       "    <tr>\n",
       "      <th>4</th>\n",
       "      <td>Albania</td>\n",
       "      <td>2021-01-14</td>\n",
       "      <td>Pfizer/BioNTech</td>\n",
       "    </tr>\n",
       "    <tr>\n",
       "      <th>...</th>\n",
       "      <td>...</td>\n",
       "      <td>...</td>\n",
       "      <td>...</td>\n",
       "    </tr>\n",
       "    <tr>\n",
       "      <th>4375</th>\n",
       "      <td>Zimbabwe</td>\n",
       "      <td>2021-02-22</td>\n",
       "      <td>Sinopharm/Beijing</td>\n",
       "    </tr>\n",
       "    <tr>\n",
       "      <th>4376</th>\n",
       "      <td>Zimbabwe</td>\n",
       "      <td>2021-02-23</td>\n",
       "      <td>Sinopharm/Beijing</td>\n",
       "    </tr>\n",
       "    <tr>\n",
       "      <th>4377</th>\n",
       "      <td>Zimbabwe</td>\n",
       "      <td>2021-02-24</td>\n",
       "      <td>Sinopharm/Beijing</td>\n",
       "    </tr>\n",
       "    <tr>\n",
       "      <th>4378</th>\n",
       "      <td>Zimbabwe</td>\n",
       "      <td>2021-02-25</td>\n",
       "      <td>Sinopharm/Beijing</td>\n",
       "    </tr>\n",
       "    <tr>\n",
       "      <th>4379</th>\n",
       "      <td>Zimbabwe</td>\n",
       "      <td>2021-02-26</td>\n",
       "      <td>Sinopharm/Beijing</td>\n",
       "    </tr>\n",
       "  </tbody>\n",
       "</table>\n",
       "<p>4380 rows × 3 columns</p>\n",
       "</div>"
      ],
      "text/plain": [
       "       country        date           vaccines\n",
       "0      Albania  2021-01-10    Pfizer/BioNTech\n",
       "1      Albania  2021-01-11    Pfizer/BioNTech\n",
       "2      Albania  2021-01-12    Pfizer/BioNTech\n",
       "3      Albania  2021-01-13    Pfizer/BioNTech\n",
       "4      Albania  2021-01-14    Pfizer/BioNTech\n",
       "...        ...         ...                ...\n",
       "4375  Zimbabwe  2021-02-22  Sinopharm/Beijing\n",
       "4376  Zimbabwe  2021-02-23  Sinopharm/Beijing\n",
       "4377  Zimbabwe  2021-02-24  Sinopharm/Beijing\n",
       "4378  Zimbabwe  2021-02-25  Sinopharm/Beijing\n",
       "4379  Zimbabwe  2021-02-26  Sinopharm/Beijing\n",
       "\n",
       "[4380 rows x 3 columns]"
      ]
     },
     "execution_count": 49,
     "metadata": {},
     "output_type": "execute_result"
    }
   ],
   "source": [
    "vacinas_por_pais = dataframe[['country', 'date', 'vaccines']]\n",
    "vacinas_por_pais\n"
   ]
  },
  {
   "cell_type": "markdown",
   "metadata": {},
   "source": [
    "Ótimo! Agora vamos agrupar as vacinas e contar os pais apenas uma vez. Se no datasert tiver um país utilizando duas vacinas, ele vai ser contato duas vezes."
   ]
  },
  {
   "cell_type": "code",
   "execution_count": 50,
   "metadata": {},
   "outputs": [
    {
     "data": {
      "text/plain": [
       "vaccines\n",
       "Pfizer/BioNTech                                                                       26\n",
       "Moderna, Oxford/AstraZeneca, Pfizer/BioNTech                                          20\n",
       "Oxford/AstraZeneca                                                                    15\n",
       "Sputnik V                                                                             11\n",
       "Oxford/AstraZeneca, Pfizer/BioNTech                                                   10\n",
       "Moderna, Pfizer/BioNTech                                                               7\n",
       "Sinopharm/Beijing                                                                      6\n",
       "Sinovac                                                                                2\n",
       "Oxford/AstraZeneca, Sinopharm/Beijing                                                  2\n",
       "Pfizer/BioNTech, Sinovac                                                               2\n",
       "Pfizer/BioNTech, Sinopharm/Beijing, Sputnik V                                          2\n",
       "Sinopharm/Beijing, Sinopharm/Wuhan, Sinovac                                            1\n",
       "Covaxin, Oxford/AstraZeneca                                                            1\n",
       "Oxford/AstraZeneca, Sputnik V                                                          1\n",
       "Oxford/AstraZeneca, Sinovac                                                            1\n",
       "Johnson&Johnson                                                                        1\n",
       "Oxford/AstraZeneca, Pfizer/BioNTech, Sputnik V                                         1\n",
       "Oxford/AstraZeneca, Pfizer/BioNTech, Sinopharm/Beijing, Sinopharm/Wuhan, Sputnik V     1\n",
       "Moderna, Oxford/AstraZeneca, Pfizer/BioNTech, Sinopharm/Beijing, Sputnik V             1\n",
       "Oxford/AstraZeneca, Sinopharm/Beijing, Sputnik V                                       1\n",
       "Name: country, dtype: int64"
      ]
     },
     "execution_count": 50,
     "metadata": {},
     "output_type": "execute_result"
    }
   ],
   "source": [
    "vacinas_por_pais.groupby('vaccines')['country'].nunique().sort_values(ascending=False)"
   ]
  },
  {
   "cell_type": "code",
   "execution_count": 51,
   "metadata": {},
   "outputs": [],
   "source": [
    "vacinas_pais = dataframe.groupby('country')['vaccines'].unique()\n",
    "vacinas_pais = vacinas_pais.to_frame().reset_index()"
   ]
  },
  {
   "cell_type": "markdown",
   "metadata": {},
   "source": [
    "Temos a relação entre as vacinas mais utilizadas no mundo. Percebam que a vacina Pfizer/BioNTech contém 26 paises fazendo o seu uso."
   ]
  },
  {
   "cell_type": "markdown",
   "metadata": {},
   "source": [
    "## 3. Qual o país possui o maior número de vacinados por dia?\n",
    "\n",
    "Para obter essa resposta temos que analisar a variável *daily_vaccinations*. "
   ]
  },
  {
   "cell_type": "code",
   "execution_count": 52,
   "metadata": {},
   "outputs": [
    {
     "data": {
      "text/plain": [
       "country\n",
       "China                  1916190.0\n",
       "United States          1716311.0\n",
       "India                   472428.0\n",
       "United Kingdom          445204.0\n",
       "Turkey                  435596.0\n",
       "                         ...    \n",
       "Andorra                    100.0\n",
       "Trinidad and Tobago         63.0\n",
       "Venezuela                   31.0\n",
       "Greenland                    NaN\n",
       "Saint Helena                 NaN\n",
       "Name: daily_vaccinations, Length: 112, dtype: float64"
      ]
     },
     "execution_count": 52,
     "metadata": {},
     "output_type": "execute_result"
    }
   ],
   "source": [
    "dataframe.groupby('country')['daily_vaccinations'].max().sort_values(ascending=False)"
   ]
  },
  {
   "cell_type": "markdown",
   "metadata": {},
   "source": [
    "## 4. Qual a média de vacinação de vacinação por pais?"
   ]
  },
  {
   "cell_type": "code",
   "execution_count": 53,
   "metadata": {},
   "outputs": [
    {
     "data": {
      "text/html": [
       "<div>\n",
       "<style scoped>\n",
       "    .dataframe tbody tr th:only-of-type {\n",
       "        vertical-align: middle;\n",
       "    }\n",
       "\n",
       "    .dataframe tbody tr th {\n",
       "        vertical-align: top;\n",
       "    }\n",
       "\n",
       "    .dataframe thead th {\n",
       "        text-align: right;\n",
       "    }\n",
       "</style>\n",
       "<table border=\"1\" class=\"dataframe\">\n",
       "  <thead>\n",
       "    <tr style=\"text-align: right;\">\n",
       "      <th></th>\n",
       "      <th>country</th>\n",
       "      <th>daily_vaccinations</th>\n",
       "    </tr>\n",
       "  </thead>\n",
       "  <tbody>\n",
       "    <tr>\n",
       "      <th>0</th>\n",
       "      <td>United States</td>\n",
       "      <td>961578.338235</td>\n",
       "    </tr>\n",
       "    <tr>\n",
       "      <th>1</th>\n",
       "      <td>China</td>\n",
       "      <td>623616.000000</td>\n",
       "    </tr>\n",
       "    <tr>\n",
       "      <th>2</th>\n",
       "      <td>India</td>\n",
       "      <td>298508.476190</td>\n",
       "    </tr>\n",
       "    <tr>\n",
       "      <th>3</th>\n",
       "      <td>United Kingdom</td>\n",
       "      <td>255473.256757</td>\n",
       "    </tr>\n",
       "    <tr>\n",
       "      <th>4</th>\n",
       "      <td>England</td>\n",
       "      <td>215682.081081</td>\n",
       "    </tr>\n",
       "    <tr>\n",
       "      <th>...</th>\n",
       "      <td>...</td>\n",
       "      <td>...</td>\n",
       "    </tr>\n",
       "    <tr>\n",
       "      <th>107</th>\n",
       "      <td>Andorra</td>\n",
       "      <td>62.000000</td>\n",
       "    </tr>\n",
       "    <tr>\n",
       "      <th>108</th>\n",
       "      <td>Liechtenstein</td>\n",
       "      <td>52.619048</td>\n",
       "    </tr>\n",
       "    <tr>\n",
       "      <th>109</th>\n",
       "      <td>Venezuela</td>\n",
       "      <td>31.000000</td>\n",
       "    </tr>\n",
       "    <tr>\n",
       "      <th>110</th>\n",
       "      <td>Greenland</td>\n",
       "      <td>NaN</td>\n",
       "    </tr>\n",
       "    <tr>\n",
       "      <th>111</th>\n",
       "      <td>Saint Helena</td>\n",
       "      <td>NaN</td>\n",
       "    </tr>\n",
       "  </tbody>\n",
       "</table>\n",
       "<p>112 rows × 2 columns</p>\n",
       "</div>"
      ],
      "text/plain": [
       "            country  daily_vaccinations\n",
       "0     United States       961578.338235\n",
       "1             China       623616.000000\n",
       "2             India       298508.476190\n",
       "3    United Kingdom       255473.256757\n",
       "4           England       215682.081081\n",
       "..              ...                 ...\n",
       "107         Andorra           62.000000\n",
       "108   Liechtenstein           52.619048\n",
       "109       Venezuela           31.000000\n",
       "110       Greenland                 NaN\n",
       "111    Saint Helena                 NaN\n",
       "\n",
       "[112 rows x 2 columns]"
      ]
     },
     "execution_count": 53,
     "metadata": {},
     "output_type": "execute_result"
    }
   ],
   "source": [
    "media_pais = dataframe.groupby('country')['daily_vaccinations'].mean().sort_values(ascending=False)\n",
    "media_pais = media_pais.to_frame().reset_index()\n",
    "media_pais"
   ]
  },
  {
   "cell_type": "markdown",
   "metadata": {},
   "source": [
    "Pronto! Todas as perguntas respondidadas. \n",
    "\n",
    "Um dos trabalhos de um cientista de dados é extrair, limpar, tratar e gerar novos dados. \n",
    "\n",
    "Geramos alguns dataframes das perguntas que criamos.\n",
    "1. imunizados\n",
    "2. vacinas_por_pais\n",
    "3. media_pais\n",
    "\n",
    "Agora vamos criar uma nova base de dados utilizando os dados que tratamos anteriormente."
   ]
  },
  {
   "cell_type": "code",
   "execution_count": 54,
   "metadata": {},
   "outputs": [],
   "source": [
    "# Renomeando novas colunas dos datas\n",
    "#Vamos iniciar alterando o nome de algumas colunas\n",
    "\n",
    "media_pais = media_pais.rename(columns={'country': 'pais','daily_vaccinations': 'media_vacinacao'})"
   ]
  },
  {
   "cell_type": "code",
   "execution_count": 55,
   "metadata": {},
   "outputs": [
    {
     "data": {
      "text/html": [
       "<div>\n",
       "<style scoped>\n",
       "    .dataframe tbody tr th:only-of-type {\n",
       "        vertical-align: middle;\n",
       "    }\n",
       "\n",
       "    .dataframe tbody tr th {\n",
       "        vertical-align: top;\n",
       "    }\n",
       "\n",
       "    .dataframe thead th {\n",
       "        text-align: right;\n",
       "    }\n",
       "</style>\n",
       "<table border=\"1\" class=\"dataframe\">\n",
       "  <thead>\n",
       "    <tr style=\"text-align: right;\">\n",
       "      <th></th>\n",
       "      <th>pais</th>\n",
       "      <th>media_vacinacao</th>\n",
       "    </tr>\n",
       "  </thead>\n",
       "  <tbody>\n",
       "    <tr>\n",
       "      <th>0</th>\n",
       "      <td>United States</td>\n",
       "      <td>961578.338235</td>\n",
       "    </tr>\n",
       "    <tr>\n",
       "      <th>1</th>\n",
       "      <td>China</td>\n",
       "      <td>623616.000000</td>\n",
       "    </tr>\n",
       "    <tr>\n",
       "      <th>2</th>\n",
       "      <td>India</td>\n",
       "      <td>298508.476190</td>\n",
       "    </tr>\n",
       "    <tr>\n",
       "      <th>3</th>\n",
       "      <td>United Kingdom</td>\n",
       "      <td>255473.256757</td>\n",
       "    </tr>\n",
       "    <tr>\n",
       "      <th>4</th>\n",
       "      <td>England</td>\n",
       "      <td>215682.081081</td>\n",
       "    </tr>\n",
       "    <tr>\n",
       "      <th>...</th>\n",
       "      <td>...</td>\n",
       "      <td>...</td>\n",
       "    </tr>\n",
       "    <tr>\n",
       "      <th>107</th>\n",
       "      <td>Andorra</td>\n",
       "      <td>62.000000</td>\n",
       "    </tr>\n",
       "    <tr>\n",
       "      <th>108</th>\n",
       "      <td>Liechtenstein</td>\n",
       "      <td>52.619048</td>\n",
       "    </tr>\n",
       "    <tr>\n",
       "      <th>109</th>\n",
       "      <td>Venezuela</td>\n",
       "      <td>31.000000</td>\n",
       "    </tr>\n",
       "    <tr>\n",
       "      <th>110</th>\n",
       "      <td>Greenland</td>\n",
       "      <td>NaN</td>\n",
       "    </tr>\n",
       "    <tr>\n",
       "      <th>111</th>\n",
       "      <td>Saint Helena</td>\n",
       "      <td>NaN</td>\n",
       "    </tr>\n",
       "  </tbody>\n",
       "</table>\n",
       "<p>112 rows × 2 columns</p>\n",
       "</div>"
      ],
      "text/plain": [
       "               pais  media_vacinacao\n",
       "0     United States    961578.338235\n",
       "1             China    623616.000000\n",
       "2             India    298508.476190\n",
       "3    United Kingdom    255473.256757\n",
       "4           England    215682.081081\n",
       "..              ...              ...\n",
       "107         Andorra        62.000000\n",
       "108   Liechtenstein        52.619048\n",
       "109       Venezuela        31.000000\n",
       "110       Greenland              NaN\n",
       "111    Saint Helena              NaN\n",
       "\n",
       "[112 rows x 2 columns]"
      ]
     },
     "execution_count": 55,
     "metadata": {},
     "output_type": "execute_result"
    }
   ],
   "source": [
    "media_pais"
   ]
  },
  {
   "cell_type": "code",
   "execution_count": 56,
   "metadata": {},
   "outputs": [
    {
     "data": {
      "text/html": [
       "<div>\n",
       "<style scoped>\n",
       "    .dataframe tbody tr th:only-of-type {\n",
       "        vertical-align: middle;\n",
       "    }\n",
       "\n",
       "    .dataframe tbody tr th {\n",
       "        vertical-align: top;\n",
       "    }\n",
       "\n",
       "    .dataframe thead th {\n",
       "        text-align: right;\n",
       "    }\n",
       "</style>\n",
       "<table border=\"1\" class=\"dataframe\">\n",
       "  <thead>\n",
       "    <tr style=\"text-align: right;\">\n",
       "      <th></th>\n",
       "      <th>pais</th>\n",
       "      <th>vacina_utilizada</th>\n",
       "    </tr>\n",
       "  </thead>\n",
       "  <tbody>\n",
       "    <tr>\n",
       "      <th>0</th>\n",
       "      <td>Albania</td>\n",
       "      <td>[Pfizer/BioNTech]</td>\n",
       "    </tr>\n",
       "    <tr>\n",
       "      <th>1</th>\n",
       "      <td>Algeria</td>\n",
       "      <td>[Sputnik V]</td>\n",
       "    </tr>\n",
       "    <tr>\n",
       "      <th>2</th>\n",
       "      <td>Andorra</td>\n",
       "      <td>[Pfizer/BioNTech]</td>\n",
       "    </tr>\n",
       "    <tr>\n",
       "      <th>3</th>\n",
       "      <td>Anguilla</td>\n",
       "      <td>[Oxford/AstraZeneca]</td>\n",
       "    </tr>\n",
       "    <tr>\n",
       "      <th>4</th>\n",
       "      <td>Argentina</td>\n",
       "      <td>[Sputnik V]</td>\n",
       "    </tr>\n",
       "  </tbody>\n",
       "</table>\n",
       "</div>"
      ],
      "text/plain": [
       "        pais      vacina_utilizada\n",
       "0    Albania     [Pfizer/BioNTech]\n",
       "1    Algeria           [Sputnik V]\n",
       "2    Andorra     [Pfizer/BioNTech]\n",
       "3   Anguilla  [Oxford/AstraZeneca]\n",
       "4  Argentina           [Sputnik V]"
      ]
     },
     "execution_count": 56,
     "metadata": {},
     "output_type": "execute_result"
    }
   ],
   "source": [
    "vacinas_pais = vacinas_pais.rename(columns={'country': 'pais', 'vaccines': 'vacina_utilizada'})\n",
    "vacinas_pais[:5]"
   ]
  },
  {
   "cell_type": "code",
   "execution_count": 58,
   "metadata": {},
   "outputs": [
    {
     "data": {
      "text/html": [
       "<div>\n",
       "<style scoped>\n",
       "    .dataframe tbody tr th:only-of-type {\n",
       "        vertical-align: middle;\n",
       "    }\n",
       "\n",
       "    .dataframe tbody tr th {\n",
       "        vertical-align: top;\n",
       "    }\n",
       "\n",
       "    .dataframe thead th {\n",
       "        text-align: right;\n",
       "    }\n",
       "</style>\n",
       "<table border=\"1\" class=\"dataframe\">\n",
       "  <thead>\n",
       "    <tr style=\"text-align: right;\">\n",
       "      <th></th>\n",
       "      <th>pais</th>\n",
       "      <th>Imunizados</th>\n",
       "    </tr>\n",
       "  </thead>\n",
       "  <tbody>\n",
       "    <tr>\n",
       "      <th>0</th>\n",
       "      <td>United States</td>\n",
       "      <td>70454064.0</td>\n",
       "    </tr>\n",
       "    <tr>\n",
       "      <th>1</th>\n",
       "      <td>China</td>\n",
       "      <td>40520000.0</td>\n",
       "    </tr>\n",
       "    <tr>\n",
       "      <th>2</th>\n",
       "      <td>United Kingdom</td>\n",
       "      <td>19913592.0</td>\n",
       "    </tr>\n",
       "    <tr>\n",
       "      <th>3</th>\n",
       "      <td>England</td>\n",
       "      <td>16785841.0</td>\n",
       "    </tr>\n",
       "    <tr>\n",
       "      <th>4</th>\n",
       "      <td>India</td>\n",
       "      <td>13756940.0</td>\n",
       "    </tr>\n",
       "  </tbody>\n",
       "</table>\n",
       "</div>"
      ],
      "text/plain": [
       "             pais  Imunizados\n",
       "0   United States  70454064.0\n",
       "1           China  40520000.0\n",
       "2  United Kingdom  19913592.0\n",
       "3         England  16785841.0\n",
       "4           India  13756940.0"
      ]
     },
     "execution_count": 58,
     "metadata": {},
     "output_type": "execute_result"
    }
   ],
   "source": [
    "imunizados = imunizados.rename(columns={'country': 'pais', 'total_vaccinations': 'Imunizados'})\n",
    "imunizados[:5]"
   ]
  },
  {
   "cell_type": "markdown",
   "metadata": {},
   "source": [
    "# Criando um novo dataset\n",
    "\n",
    "Para criar um novo dateset (conjunto de dados), vamos utilizar a função merge. Essa função vai comparar os campos das tabelas que são chaves iguais, como o nome do pais e realizar uma junção entre as tabelas. Assim vamos ter todos os dados tratados em uma única tabela. "
   ]
  },
  {
   "cell_type": "code",
   "execution_count": 60,
   "metadata": {},
   "outputs": [],
   "source": [
    "dados_tratados = pd.merge(imunizados, media_pais, how='inner')"
   ]
  },
  {
   "cell_type": "code",
   "execution_count": 61,
   "metadata": {},
   "outputs": [
    {
     "data": {
      "text/html": [
       "<div>\n",
       "<style scoped>\n",
       "    .dataframe tbody tr th:only-of-type {\n",
       "        vertical-align: middle;\n",
       "    }\n",
       "\n",
       "    .dataframe tbody tr th {\n",
       "        vertical-align: top;\n",
       "    }\n",
       "\n",
       "    .dataframe thead th {\n",
       "        text-align: right;\n",
       "    }\n",
       "</style>\n",
       "<table border=\"1\" class=\"dataframe\">\n",
       "  <thead>\n",
       "    <tr style=\"text-align: right;\">\n",
       "      <th></th>\n",
       "      <th>pais</th>\n",
       "      <th>Imunizados</th>\n",
       "      <th>media_vacinacao</th>\n",
       "      <th>vacina_utilizada</th>\n",
       "    </tr>\n",
       "  </thead>\n",
       "  <tbody>\n",
       "    <tr>\n",
       "      <th>0</th>\n",
       "      <td>United States</td>\n",
       "      <td>70454064.0</td>\n",
       "      <td>961578.338235</td>\n",
       "      <td>[Moderna, Pfizer/BioNTech]</td>\n",
       "    </tr>\n",
       "    <tr>\n",
       "      <th>1</th>\n",
       "      <td>China</td>\n",
       "      <td>40520000.0</td>\n",
       "      <td>623616.000000</td>\n",
       "      <td>[Sinopharm/Beijing, Sinopharm/Wuhan, Sinovac]</td>\n",
       "    </tr>\n",
       "    <tr>\n",
       "      <th>2</th>\n",
       "      <td>United Kingdom</td>\n",
       "      <td>19913592.0</td>\n",
       "      <td>255473.256757</td>\n",
       "      <td>[Oxford/AstraZeneca, Pfizer/BioNTech]</td>\n",
       "    </tr>\n",
       "    <tr>\n",
       "      <th>3</th>\n",
       "      <td>England</td>\n",
       "      <td>16785841.0</td>\n",
       "      <td>215682.081081</td>\n",
       "      <td>[Oxford/AstraZeneca, Pfizer/BioNTech]</td>\n",
       "    </tr>\n",
       "    <tr>\n",
       "      <th>4</th>\n",
       "      <td>India</td>\n",
       "      <td>13756940.0</td>\n",
       "      <td>298508.476190</td>\n",
       "      <td>[Covaxin, Oxford/AstraZeneca]</td>\n",
       "    </tr>\n",
       "    <tr>\n",
       "      <th>...</th>\n",
       "      <td>...</td>\n",
       "      <td>...</td>\n",
       "      <td>...</td>\n",
       "      <td>...</td>\n",
       "    </tr>\n",
       "    <tr>\n",
       "      <th>107</th>\n",
       "      <td>Paraguay</td>\n",
       "      <td>1000.0</td>\n",
       "      <td>250.000000</td>\n",
       "      <td>[Sputnik V]</td>\n",
       "    </tr>\n",
       "    <tr>\n",
       "      <th>108</th>\n",
       "      <td>New Zealand</td>\n",
       "      <td>1000.0</td>\n",
       "      <td>108.000000</td>\n",
       "      <td>[Pfizer/BioNTech]</td>\n",
       "    </tr>\n",
       "    <tr>\n",
       "      <th>109</th>\n",
       "      <td>Trinidad and Tobago</td>\n",
       "      <td>440.0</td>\n",
       "      <td>63.000000</td>\n",
       "      <td>[Oxford/AstraZeneca]</td>\n",
       "    </tr>\n",
       "    <tr>\n",
       "      <th>110</th>\n",
       "      <td>Venezuela</td>\n",
       "      <td>157.0</td>\n",
       "      <td>31.000000</td>\n",
       "      <td>[Sputnik V]</td>\n",
       "    </tr>\n",
       "    <tr>\n",
       "      <th>111</th>\n",
       "      <td>Saint Helena</td>\n",
       "      <td>107.0</td>\n",
       "      <td>NaN</td>\n",
       "      <td>[Oxford/AstraZeneca]</td>\n",
       "    </tr>\n",
       "  </tbody>\n",
       "</table>\n",
       "<p>112 rows × 4 columns</p>\n",
       "</div>"
      ],
      "text/plain": [
       "                    pais  Imunizados  media_vacinacao  \\\n",
       "0          United States  70454064.0    961578.338235   \n",
       "1                  China  40520000.0    623616.000000   \n",
       "2         United Kingdom  19913592.0    255473.256757   \n",
       "3                England  16785841.0    215682.081081   \n",
       "4                  India  13756940.0    298508.476190   \n",
       "..                   ...         ...              ...   \n",
       "107             Paraguay      1000.0       250.000000   \n",
       "108          New Zealand      1000.0       108.000000   \n",
       "109  Trinidad and Tobago       440.0        63.000000   \n",
       "110            Venezuela       157.0        31.000000   \n",
       "111         Saint Helena       107.0              NaN   \n",
       "\n",
       "                                  vacina_utilizada  \n",
       "0                       [Moderna, Pfizer/BioNTech]  \n",
       "1    [Sinopharm/Beijing, Sinopharm/Wuhan, Sinovac]  \n",
       "2            [Oxford/AstraZeneca, Pfizer/BioNTech]  \n",
       "3            [Oxford/AstraZeneca, Pfizer/BioNTech]  \n",
       "4                    [Covaxin, Oxford/AstraZeneca]  \n",
       "..                                             ...  \n",
       "107                                    [Sputnik V]  \n",
       "108                              [Pfizer/BioNTech]  \n",
       "109                           [Oxford/AstraZeneca]  \n",
       "110                                    [Sputnik V]  \n",
       "111                           [Oxford/AstraZeneca]  \n",
       "\n",
       "[112 rows x 4 columns]"
      ]
     },
     "execution_count": 61,
     "metadata": {},
     "output_type": "execute_result"
    }
   ],
   "source": [
    "dados_tratados = pd.merge(dados_tratados, vacinas_pais)\n",
    "dados_tratados"
   ]
  },
  {
   "cell_type": "markdown",
   "metadata": {},
   "source": [
    "Podemos também realizar de forma direta conforme o script abaixo. veja que temos que fazer cada junção de forma separada. Sempre de dentro para fora. "
   ]
  },
  {
   "cell_type": "code",
   "execution_count": 62,
   "metadata": {},
   "outputs": [
    {
     "data": {
      "text/html": [
       "<div>\n",
       "<style scoped>\n",
       "    .dataframe tbody tr th:only-of-type {\n",
       "        vertical-align: middle;\n",
       "    }\n",
       "\n",
       "    .dataframe tbody tr th {\n",
       "        vertical-align: top;\n",
       "    }\n",
       "\n",
       "    .dataframe thead th {\n",
       "        text-align: right;\n",
       "    }\n",
       "</style>\n",
       "<table border=\"1\" class=\"dataframe\">\n",
       "  <thead>\n",
       "    <tr style=\"text-align: right;\">\n",
       "      <th></th>\n",
       "      <th>pais</th>\n",
       "      <th>Imunizados</th>\n",
       "      <th>media_vacinacao</th>\n",
       "      <th>vacina_utilizada</th>\n",
       "    </tr>\n",
       "  </thead>\n",
       "  <tbody>\n",
       "    <tr>\n",
       "      <th>0</th>\n",
       "      <td>United States</td>\n",
       "      <td>70454064.0</td>\n",
       "      <td>961578.338235</td>\n",
       "      <td>[Moderna, Pfizer/BioNTech]</td>\n",
       "    </tr>\n",
       "    <tr>\n",
       "      <th>1</th>\n",
       "      <td>China</td>\n",
       "      <td>40520000.0</td>\n",
       "      <td>623616.000000</td>\n",
       "      <td>[Sinopharm/Beijing, Sinopharm/Wuhan, Sinovac]</td>\n",
       "    </tr>\n",
       "    <tr>\n",
       "      <th>2</th>\n",
       "      <td>United Kingdom</td>\n",
       "      <td>19913592.0</td>\n",
       "      <td>255473.256757</td>\n",
       "      <td>[Oxford/AstraZeneca, Pfizer/BioNTech]</td>\n",
       "    </tr>\n",
       "    <tr>\n",
       "      <th>3</th>\n",
       "      <td>England</td>\n",
       "      <td>16785841.0</td>\n",
       "      <td>215682.081081</td>\n",
       "      <td>[Oxford/AstraZeneca, Pfizer/BioNTech]</td>\n",
       "    </tr>\n",
       "    <tr>\n",
       "      <th>4</th>\n",
       "      <td>India</td>\n",
       "      <td>13756940.0</td>\n",
       "      <td>298508.476190</td>\n",
       "      <td>[Covaxin, Oxford/AstraZeneca]</td>\n",
       "    </tr>\n",
       "    <tr>\n",
       "      <th>...</th>\n",
       "      <td>...</td>\n",
       "      <td>...</td>\n",
       "      <td>...</td>\n",
       "      <td>...</td>\n",
       "    </tr>\n",
       "    <tr>\n",
       "      <th>107</th>\n",
       "      <td>Paraguay</td>\n",
       "      <td>1000.0</td>\n",
       "      <td>250.000000</td>\n",
       "      <td>[Sputnik V]</td>\n",
       "    </tr>\n",
       "    <tr>\n",
       "      <th>108</th>\n",
       "      <td>New Zealand</td>\n",
       "      <td>1000.0</td>\n",
       "      <td>108.000000</td>\n",
       "      <td>[Pfizer/BioNTech]</td>\n",
       "    </tr>\n",
       "    <tr>\n",
       "      <th>109</th>\n",
       "      <td>Trinidad and Tobago</td>\n",
       "      <td>440.0</td>\n",
       "      <td>63.000000</td>\n",
       "      <td>[Oxford/AstraZeneca]</td>\n",
       "    </tr>\n",
       "    <tr>\n",
       "      <th>110</th>\n",
       "      <td>Venezuela</td>\n",
       "      <td>157.0</td>\n",
       "      <td>31.000000</td>\n",
       "      <td>[Sputnik V]</td>\n",
       "    </tr>\n",
       "    <tr>\n",
       "      <th>111</th>\n",
       "      <td>Saint Helena</td>\n",
       "      <td>107.0</td>\n",
       "      <td>NaN</td>\n",
       "      <td>[Oxford/AstraZeneca]</td>\n",
       "    </tr>\n",
       "  </tbody>\n",
       "</table>\n",
       "<p>112 rows × 4 columns</p>\n",
       "</div>"
      ],
      "text/plain": [
       "                    pais  Imunizados  media_vacinacao  \\\n",
       "0          United States  70454064.0    961578.338235   \n",
       "1                  China  40520000.0    623616.000000   \n",
       "2         United Kingdom  19913592.0    255473.256757   \n",
       "3                England  16785841.0    215682.081081   \n",
       "4                  India  13756940.0    298508.476190   \n",
       "..                   ...         ...              ...   \n",
       "107             Paraguay      1000.0       250.000000   \n",
       "108          New Zealand      1000.0       108.000000   \n",
       "109  Trinidad and Tobago       440.0        63.000000   \n",
       "110            Venezuela       157.0        31.000000   \n",
       "111         Saint Helena       107.0              NaN   \n",
       "\n",
       "                                  vacina_utilizada  \n",
       "0                       [Moderna, Pfizer/BioNTech]  \n",
       "1    [Sinopharm/Beijing, Sinopharm/Wuhan, Sinovac]  \n",
       "2            [Oxford/AstraZeneca, Pfizer/BioNTech]  \n",
       "3            [Oxford/AstraZeneca, Pfizer/BioNTech]  \n",
       "4                    [Covaxin, Oxford/AstraZeneca]  \n",
       "..                                             ...  \n",
       "107                                    [Sputnik V]  \n",
       "108                              [Pfizer/BioNTech]  \n",
       "109                           [Oxford/AstraZeneca]  \n",
       "110                                    [Sputnik V]  \n",
       "111                           [Oxford/AstraZeneca]  \n",
       "\n",
       "[112 rows x 4 columns]"
      ]
     },
     "execution_count": 62,
     "metadata": {},
     "output_type": "execute_result"
    }
   ],
   "source": [
    "pd.merge(pd.merge(imunizados, media_pais), vacinas_pais)"
   ]
  },
  {
   "cell_type": "markdown",
   "metadata": {},
   "source": [
    "# Exportando dados tratados\n",
    "Pronto! Agora que criamos o nosso dataset vamos exportar ele para um arquivo txt.\n",
    "\n"
   ]
  },
  {
   "cell_type": "code",
   "execution_count": 63,
   "metadata": {},
   "outputs": [],
   "source": [
    "dados_tratados.to_csv('estatistica_pais.csv', index= True, sep = ';')"
   ]
  },
  {
   "cell_type": "code",
   "execution_count": null,
   "metadata": {},
   "outputs": [],
   "source": [
    "dados_tratados.to_json('estatistica.json', orient = 'records')"
   ]
  }
 ],
 "metadata": {
  "kernelspec": {
   "display_name": "coletor",
   "language": "python",
   "name": "coletor"
  },
  "language_info": {
   "codemirror_mode": {
    "name": "ipython",
    "version": 3
   },
   "file_extension": ".py",
   "mimetype": "text/x-python",
   "name": "python",
   "nbconvert_exporter": "python",
   "pygments_lexer": "ipython3",
   "version": "3.9.0"
  }
 },
 "nbformat": 4,
 "nbformat_minor": 5
}
